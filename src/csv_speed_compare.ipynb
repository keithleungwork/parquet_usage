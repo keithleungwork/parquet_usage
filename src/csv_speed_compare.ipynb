{
 "cells": [
  {
   "attachments": {},
   "cell_type": "markdown",
   "metadata": {},
   "source": [
    "# CSV Speed Comparison\n",
    "\n",
    "This notebook will simply show the performance between using CSV and Parquet format."
   ]
  },
  {
   "attachments": {},
   "cell_type": "markdown",
   "metadata": {},
   "source": [
    "First, prepare a huge data source in CSV format for testing. Here I used a public business registry data source from [here](https://info.gbiz.go.jp/hojin/DownloadTop). You can download any CSV on the site."
   ]
  },
  {
   "cell_type": "code",
   "execution_count": 61,
   "metadata": {},
   "outputs": [],
   "source": [
    "import numpy as np\n",
    "import pandas as pd\n",
    "import time\n",
    "from sys import getsizeof\n",
    "import csv\n",
    "import os\n",
    "import matplotlib.pyplot as plt\n",
    "import matplotlib.ticker as tkr  "
   ]
  },
  {
   "attachments": {},
   "cell_type": "markdown",
   "metadata": {},
   "source": [
    "A dict to keep our testing results"
   ]
  },
  {
   "cell_type": "code",
   "execution_count": 2,
   "metadata": {},
   "outputs": [],
   "source": [
    "benchmark = {\n",
    "    \"csv\": {},\n",
    "    \"pq_gzip\": {},\n",
    "    \"pq_no_compress\": {}\n",
    "}"
   ]
  },
  {
   "attachments": {},
   "cell_type": "markdown",
   "metadata": {},
   "source": [
    "----\n",
    "\n",
    "## CSV format\n",
    "\n",
    "Now let us read the CSV file into variable.\n"
   ]
  },
  {
   "cell_type": "code",
   "execution_count": 59,
   "metadata": {},
   "outputs": [
    {
     "name": "stdout",
     "output_type": "stream",
     "text": [
      "Loaded data in 21.1172 seconds\n"
     ]
    }
   ],
   "source": [
    "# Change to your file name\n",
    "csv_f = \"./tmp/Kihonjoho_UTF-8_20230410.csv\"\n",
    "\n",
    "tic = time.perf_counter()\n",
    "csv_df = pd.read_csv(csv_f)\n",
    "toc = time.perf_counter()\n",
    "benchmark[\"csv\"][\"read_time\"] = toc - tic\n",
    "print(f\"Loaded data in {toc - tic:0.4f} seconds\")\n"
   ]
  },
  {
   "attachments": {},
   "cell_type": "markdown",
   "metadata": {},
   "source": [
    "And we can use `getsizeof` to check the variable size. \n",
    "\n",
    "If you open the Activity Monitor on MacOS, the *memory* column might show a lower number. You need to show another column *Real Memory* that make more sense."
   ]
  },
  {
   "cell_type": "code",
   "execution_count": 9,
   "metadata": {},
   "outputs": [
    {
     "name": "stdout",
     "output_type": "stream",
     "text": [
      "size of CSV df: 4057110637 bytes\n",
      "size of CSV df: 3869 MB\n"
     ]
    }
   ],
   "source": [
    "csv_df_size = getsizeof(csv_df)\n",
    "print(f\"size of CSV df: {csv_df_size} bytes\")\n",
    "print(f\"size of CSV df: {csv_df_size/(1024*1024):0.0f} MB\")\n",
    "benchmark[\"csv\"][\"memory\"] = csv_df_size"
   ]
  },
  {
   "attachments": {},
   "cell_type": "markdown",
   "metadata": {},
   "source": [
    "Also we test the CSV write speed here:"
   ]
  },
  {
   "cell_type": "code",
   "execution_count": 10,
   "metadata": {},
   "outputs": [
    {
     "name": "stdout",
     "output_type": "stream",
     "text": [
      "Write data in 21.5839 seconds\n"
     ]
    }
   ],
   "source": [
    "tmp_new_csv = \"./tmp/tmp_large.csv\"\n",
    "\n",
    "tic = time.perf_counter()\n",
    "# Depends on your original CSV, you might need to change below param to match the original CSV.\n",
    "csv_df.to_csv(tmp_new_csv, index=False, quoting=csv.QUOTE_ALL)\n",
    "toc = time.perf_counter()\n",
    "benchmark[\"csv\"][\"write_time\"] = toc - tic\n",
    "print(f\"Write data in {toc - tic:0.4f} seconds\")\n"
   ]
  },
  {
   "cell_type": "code",
   "execution_count": 20,
   "metadata": {},
   "outputs": [
    {
     "name": "stdout",
     "output_type": "stream",
     "text": [
      "File Size: 1092 MB\n"
     ]
    }
   ],
   "source": [
    "print(f'File Size: {os.stat(tmp_new_csv).st_size / (1024 * 1024):0.0f} MB')\n",
    "benchmark[\"csv\"][\"file_size\"] = os.stat(tmp_new_csv).st_size"
   ]
  },
  {
   "attachments": {},
   "cell_type": "markdown",
   "metadata": {},
   "source": [
    "Let's have a quick look of the CSV testing result before moving on."
   ]
  },
  {
   "cell_type": "code",
   "execution_count": 21,
   "metadata": {},
   "outputs": [
    {
     "name": "stdout",
     "output_type": "stream",
     "text": [
      "{'read_time': 19.494181496000238, 'memory': 4057110637, 'write_time': 21.583862373001466, 'file_size': 1144707784}\n"
     ]
    }
   ],
   "source": [
    "print(benchmark[\"csv\"])"
   ]
  },
  {
   "attachments": {},
   "cell_type": "markdown",
   "metadata": {},
   "source": [
    "----\n",
    "\n",
    "## Parquet format\n",
    "\n",
    "We will convert the dataframe into [Parquet](https://parquet.apache.org/) format file.  Refer to user guide [here](https://pandas.pydata.org/docs/user_guide/io.html#io-parquet).\n",
    "\n",
    "From the pandas [document](https://pandas.pydata.org/docs/reference/api/pandas.DataFrame.to_parquet.html), the method `to_parquet()` provides compression:\n",
    "> compression{‘snappy’, ‘gzip’, ‘brotli’, None}, default ‘snappy’\n",
    "\n",
    "We will try no compression and gzip.\n"
   ]
  },
  {
   "cell_type": "code",
   "execution_count": 26,
   "metadata": {},
   "outputs": [],
   "source": [
    "# the extension is parquet for no compression\n",
    "pq_f = \"./tmp/csv_to_pq.parquet\"\n",
    "pq_gzip = \"./tmp/csv_to_pq.gzip\""
   ]
  },
  {
   "cell_type": "code",
   "execution_count": 27,
   "metadata": {},
   "outputs": [
    {
     "name": "stdout",
     "output_type": "stream",
     "text": [
      "Write without compression in 3.8836 seconds\n",
      "Write gzip file in 33.7980 seconds\n"
     ]
    }
   ],
   "source": [
    "tic = time.perf_counter()\n",
    "# No compression\n",
    "csv_df.to_parquet(pq_f, compression=None)\n",
    "toc = time.perf_counter()\n",
    "benchmark[\"pq_no_compress\"][\"write_time\"] = toc - tic\n",
    "print(f\"Write without compression in {toc - tic:0.4f} seconds\")\n",
    "\n",
    "\n",
    "tic = time.perf_counter()\n",
    "# No compression\n",
    "csv_df.to_parquet(pq_gzip, compression=\"gzip\")\n",
    "toc = time.perf_counter()\n",
    "benchmark[\"pq_gzip\"][\"write_time\"] = toc - tic\n",
    "print(f\"Write gzip file in {toc - tic:0.4f} seconds\")\n"
   ]
  },
  {
   "cell_type": "code",
   "execution_count": 30,
   "metadata": {},
   "outputs": [],
   "source": [
    "# If the csv dataset is too large, we might run out of memory. You can optionally run this code block to release some memory.\n",
    "csv_df = None"
   ]
  },
  {
   "attachments": {},
   "cell_type": "markdown",
   "metadata": {},
   "source": [
    "It is 2x quicker for no compression, while gzip compression took longer than CSV writing. What about the file size?"
   ]
  },
  {
   "cell_type": "code",
   "execution_count": 28,
   "metadata": {},
   "outputs": [
    {
     "name": "stdout",
     "output_type": "stream",
     "text": [
      "File Size of no compression parquet: 622 MB\n",
      "File Size of gzip parquet: 167 MB\n"
     ]
    }
   ],
   "source": [
    "print(f'File Size of no compression parquet: {os.stat(pq_f).st_size / (1024 * 1024):0.0f} MB')\n",
    "benchmark[\"pq_no_compress\"][\"file_size\"] = os.stat(pq_f).st_size\n",
    "\n",
    "print(f'File Size of gzip parquet: {os.stat(pq_gzip).st_size / (1024 * 1024):0.0f} MB')\n",
    "benchmark[\"pq_gzip\"][\"file_size\"] = os.stat(pq_gzip).st_size"
   ]
  },
  {
   "attachments": {},
   "cell_type": "markdown",
   "metadata": {},
   "source": [
    "The gzip size is much smaller. This could be a big benefit if working with the large data requires network transferring.\n",
    "\n",
    "Also we need the reading time for record. We can read the parquet file like how we read CSV file:"
   ]
  },
  {
   "cell_type": "code",
   "execution_count": 32,
   "metadata": {},
   "outputs": [
    {
     "name": "stdout",
     "output_type": "stream",
     "text": [
      "Read data in 7.3965 seconds\n",
      "Read gzip data in 7.9483 seconds\n"
     ]
    }
   ],
   "source": [
    "\n",
    "tic = time.perf_counter()\n",
    "pq_df = pd.read_parquet(pq_f)\n",
    "toc = time.perf_counter()\n",
    "benchmark[\"pq_no_compress\"][\"read_time\"] = toc - tic\n",
    "print(f\"Read data in {toc - tic:0.4f} seconds\")\n",
    "\n",
    "## Gzip\n",
    "tic = time.perf_counter()\n",
    "pq_gzip_df = pd.read_parquet(pq_gzip)\n",
    "toc = time.perf_counter()\n",
    "benchmark[\"pq_gzip\"][\"read_time\"] = toc - tic\n",
    "print(f\"Read gzip data in {toc - tic:0.4f} seconds\")\n"
   ]
  },
  {
   "attachments": {},
   "cell_type": "markdown",
   "metadata": {},
   "source": [
    "It is interesting that reading the parquet file with or without compression took almost the same time. And surprised that reading from gzip is faster than writing to it."
   ]
  },
  {
   "cell_type": "code",
   "execution_count": 37,
   "metadata": {},
   "outputs": [
    {
     "name": "stdout",
     "output_type": "stream",
     "text": [
      "Non-compressed pq rows:  5296751\n",
      "gzip pq rows:  5296751\n",
      "size of pq(no-compress) df: 3455 MB\n",
      "size of gzip pq df: 3455 MB\n"
     ]
    }
   ],
   "source": [
    "print(\"Non-compressed pq rows: \", len(pq_df))\n",
    "print(\"gzip pq rows: \", len(pq_gzip_df))\n",
    "\n",
    "\n",
    "pq_df_size = getsizeof(pq_df)\n",
    "print(f\"size of pq(no-compress) df: {pq_df_size/(1024*1024):0.0f} MB\")\n",
    "benchmark[\"pq_no_compress\"][\"memory\"] = pq_df_size\n",
    "\n",
    "# gzip\n",
    "pq_gzip_df_size = getsizeof(pq_gzip_df)\n",
    "print(f\"size of gzip pq df: {pq_gzip_df_size/(1024*1024):0.0f} MB\")\n",
    "benchmark[\"pq_gzip\"][\"memory\"] = pq_gzip_df_size"
   ]
  },
  {
   "attachments": {},
   "cell_type": "markdown",
   "metadata": {},
   "source": [
    "From the result above, the occupied memory does not decrease too much and that makes sense, because parquet is about how we STORE the file with compression and optimization."
   ]
  },
  {
   "attachments": {},
   "cell_type": "markdown",
   "metadata": {},
   "source": [
    "------\n",
    "\n",
    "## Result\n",
    "\n",
    "At last, we will illustrate the benchmark from the result above."
   ]
  },
  {
   "cell_type": "code",
   "execution_count": 39,
   "metadata": {},
   "outputs": [
    {
     "name": "stdout",
     "output_type": "stream",
     "text": [
      "{'csv': {'file_size': 1144707784,\n",
      "         'memory': 4057110637,\n",
      "         'read_time': 19.494181496000238,\n",
      "         'write_time': 21.583862373001466},\n",
      " 'pq_gzip': {'file_size': 174742381,\n",
      "             'memory': 3622776301,\n",
      "             'read_time': 7.948349362002773,\n",
      "             'write_time': 33.798009171998274},\n",
      " 'pq_no_compress': {'file_size': 652689053,\n",
      "                    'memory': 3622776301,\n",
      "                    'read_time': 7.3964715270012675,\n",
      "                    'write_time': 3.8835563019965775}}\n"
     ]
    }
   ],
   "source": [
    "from pprint import pprint as pp\n",
    "# A quick look\n",
    "pp(benchmark)"
   ]
  },
  {
   "cell_type": "code",
   "execution_count": 76,
   "metadata": {},
   "outputs": [
    {
     "data": {
      "image/png": "[encoded data removed]",
      "text/plain": [
       "<Figure size 1000x500 with 4 Axes>"
      ]
     },
     "metadata": {},
     "output_type": "display_data"
    }
   ],
   "source": [
    "data = benchmark\n",
    "\n",
    "\n",
    "# Extracting the required data\n",
    "types = ['csv', 'pq_no_compress', 'pq_gzip']\n",
    "fields = ['file_size', 'memory', 'read_time', 'write_time']\n",
    "data_values = [[data[t][field] for t in types] for field in fields]\n",
    "my_colors = ['b', 'r', 'g', 'y', 'k']\n",
    "\n",
    "# scale for memory\n",
    "def sizeof_fmt(x, pos):\n",
    "    if x<0:\n",
    "        return \"\"\n",
    "    for x_unit in ['bytes', 'kB', 'MB', 'GB', 'TB']:\n",
    "        if x < 1024.0:\n",
    "            return \"%3.1f %s\" % (x, x_unit)\n",
    "        x /= 1024.0\n",
    "\n",
    "# Plotting subplots\n",
    "plt.figure(figsize=(10,5), layout='constrained')\n",
    "for i, field in enumerate(fields):\n",
    "    ax = plt.subplot(221+i)\n",
    "    plt.bar(types, data_values[i], color=my_colors, width=0.5)\n",
    "    if field in [\"memory\", \"file_size\"]:\n",
    "        ax.yaxis.set_major_formatter(tkr.FuncFormatter(sizeof_fmt))\n",
    "    plt.xlabel('Data Types')\n",
    "    plt.ylabel(field.capitalize())\n",
    "    plt.title(f'{field.capitalize()} Comparison')\n",
    "    plt.grid(axis='y')\n",
    "\n",
    "plt.show()"
   ]
  },
  {
   "attachments": {},
   "cell_type": "markdown",
   "metadata": {},
   "source": [
    "From above result, we can see the significant benefit from using Parquet over CSV for such a large dataset will be:\n",
    "- Smaller file size -> improve network tranfer speed\n",
    "- Faster read/write time -> (Except the write time of gzip) I/O is a biggest concern when dealing dataset with such size."
   ]
  }
 ],
 "metadata": {
  "kernelspec": {
   "display_name": ".venv",
   "language": "python",
   "name": "python3"
  },
  "language_info": {
   "codemirror_mode": {
    "name": "ipython",
    "version": 3
   },
   "file_extension": ".py",
   "mimetype": "text/x-python",
   "name": "python",
   "nbconvert_exporter": "python",
   "pygments_lexer": "ipython3",
   "version": "3.11.3"
  },
  "orig_nbformat": 4
 },
 "nbformat": 4,
 "nbformat_minor": 2
}
